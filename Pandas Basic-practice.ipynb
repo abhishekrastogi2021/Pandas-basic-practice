{
 "cells": [
  {
   "cell_type": "markdown",
   "metadata": {
    "colab_type": "text",
    "id": "WFYuAxS2hcu6"
   },
   "source": [
    "**Consider the following Python dictionary data and Python list labels:**\n",
    "\n",
    "data = {'birds': ['Cranes', 'Cranes', 'plovers', 'spoonbills', 'spoonbills', 'Cranes', 'plovers', 'Cranes', 'spoonbills', 'spoonbills'],\n",
    "        'age': [3.5, 4, 1.5, np.nan, 6, 3, 5.5, np.nan, 8, 4],\n",
    "        'visits': [2, 4, 3, 4, 3, 4, 2, 2, 3, 2],\n",
    "        'priority': ['yes', 'yes', 'no', 'yes', 'no', 'no', 'no', 'yes', 'no', 'no']}\n",
    "\n",
    "labels = ['a', 'b', 'c', 'd', 'e', 'f', 'g', 'h', 'i', 'j']\n"
   ]
  },
  {
   "cell_type": "markdown",
   "metadata": {
    "colab_type": "text",
    "id": "KaY8jRX3hcu9"
   },
   "source": [
    "**1. Create a DataFrame birds from this dictionary data which has the index labels.**"
   ]
  },
  {
   "cell_type": "code",
   "execution_count": 128,
   "metadata": {
    "colab": {},
    "colab_type": "code",
    "id": "AWrM74tnhcu_"
   },
   "outputs": [
    {
     "name": "stdout",
     "output_type": "stream",
     "text": [
      "Dataframe is :\n",
      "    age       birds priority  visits\n",
      "a  3.5      Cranes      yes       2\n",
      "b  4.0      Cranes      yes       4\n",
      "c  1.5     plovers       no       3\n",
      "d  NaN  spoonbills      yes       4\n",
      "e  6.0  spoonbills       no       3\n",
      "f  3.0      Cranes       no       4\n",
      "g  5.5     plovers       no       2\n",
      "h  NaN      Cranes      yes       2\n",
      "i  8.0  spoonbills       no       3\n",
      "j  4.0  spoonbills       no       2\n"
     ]
    }
   ],
   "source": [
    "# Importing packages\n",
    "import pandas as pd\n",
    "import numpy as np\n",
    "\n",
    "# creating data\n",
    "data = {'birds': ['Cranes', 'Cranes', 'plovers', 'spoonbills', 'spoonbills', 'Cranes', 'plovers', 'Cranes', 'spoonbills', 'spoonbills'],\n",
    "        'age': [3.5, 4, 1.5, np.nan, 6, 3, 5.5, np.nan, 8, 4],\n",
    "        'visits': [2, 4, 3, 4, 3, 4, 2, 2, 3, 2],\n",
    "        'priority': ['yes', 'yes', 'no', 'yes', 'no', 'no', 'no', 'yes', 'no', 'no']}\n",
    "\n",
    "# Creating Dataframe with index value as labels\n",
    "df = pd.DataFrame(data, index =  ['a', 'b', 'c', 'd', 'e', 'f', 'g', 'h', 'i', 'j'])\n",
    "print(\"Dataframe is :\\n\", df)"
   ]
  },
  {
   "cell_type": "markdown",
   "metadata": {
    "colab_type": "text",
    "id": "31bQ4H55hcvG"
   },
   "source": [
    "**2. Display a summary of the basic information about birds DataFrame and its data.**"
   ]
  },
  {
   "cell_type": "code",
   "execution_count": 130,
   "metadata": {
    "colab": {},
    "colab_type": "code",
    "id": "PT7e5BiThcvI"
   },
   "outputs": [
    {
     "name": "stdout",
     "output_type": "stream",
     "text": [
      "Basic information about birds DataFrame are : \n",
      "              age       birds priority     visits\n",
      "count   8.000000          10       10  10.000000\n",
      "unique       NaN           3        2        NaN\n",
      "top          NaN  spoonbills       no        NaN\n",
      "freq         NaN           4        6        NaN\n",
      "mean    4.437500         NaN      NaN   2.900000\n",
      "std     2.007797         NaN      NaN   0.875595\n",
      "min     1.500000         NaN      NaN   2.000000\n",
      "25%     3.375000         NaN      NaN   2.000000\n",
      "50%     4.000000         NaN      NaN   3.000000\n",
      "75%     5.625000         NaN      NaN   3.750000\n",
      "max     8.000000         NaN      NaN   4.000000\n"
     ]
    }
   ],
   "source": [
    "# Printing basic information for all the columns.\n",
    "print(\"Basic information about birds DataFrame are : \\n\", df.describe(include = \"all\"))"
   ]
  },
  {
   "cell_type": "markdown",
   "metadata": {
    "colab_type": "text",
    "id": "ppsyynzjhcvN"
   },
   "source": [
    "**3. Print the first 2 rows of the birds dataframe **"
   ]
  },
  {
   "cell_type": "code",
   "execution_count": 131,
   "metadata": {
    "colab": {},
    "colab_type": "code",
    "id": "mJtG2ES9hcvQ"
   },
   "outputs": [
    {
     "name": "stdout",
     "output_type": "stream",
     "text": [
      "Top 2 rows of birds DataFrame are: \n",
      "    age   birds priority  visits\n",
      "a  3.5  Cranes      yes       2\n",
      "b  4.0  Cranes      yes       4\n"
     ]
    }
   ],
   "source": [
    "# printing top 2 rows by applying slicing.\n",
    "print(\"Top 2 rows of birds DataFrame are: \\n\", df[0:2])"
   ]
  },
  {
   "cell_type": "markdown",
   "metadata": {
    "colab_type": "text",
    "id": "331CiAQDhcvW"
   },
   "source": [
    "**4. Print all the rows with only 'birds' and 'age' columns from the dataframe**"
   ]
  },
  {
   "cell_type": "code",
   "execution_count": 132,
   "metadata": {
    "colab": {},
    "colab_type": "code",
    "id": "eJm1icJhhcvY"
   },
   "outputs": [
    {
     "name": "stdout",
     "output_type": "stream",
     "text": [
      "        birds  age\n",
      "a      Cranes  3.5\n",
      "b      Cranes  4.0\n",
      "c     plovers  1.5\n",
      "d  spoonbills  NaN\n",
      "e  spoonbills  6.0\n",
      "f      Cranes  3.0\n",
      "g     plovers  5.5\n",
      "h      Cranes  NaN\n",
      "i  spoonbills  8.0\n",
      "j  spoonbills  4.0\n"
     ]
    }
   ],
   "source": [
    "# printing only birds and age columns.\n",
    "print(df[['birds', 'age']])"
   ]
  },
  {
   "cell_type": "markdown",
   "metadata": {
    "colab_type": "text",
    "id": "33v_rzNyhcvf"
   },
   "source": [
    "**5. select [2, 3, 7] rows and in columns ['birds', 'age', 'visits']**"
   ]
  },
  {
   "cell_type": "code",
   "execution_count": 133,
   "metadata": {
    "colab": {},
    "colab_type": "code",
    "id": "ia5weqCOhcvh"
   },
   "outputs": [
    {
     "name": "stdout",
     "output_type": "stream",
     "text": [
      "   age       birds  visits\n",
      "c  1.5     plovers       3\n",
      "d  NaN  spoonbills       4\n",
      "h  NaN      Cranes       2\n"
     ]
    }
   ],
   "source": [
    "# printing by providing location of rows and columns\n",
    "print(df.iloc[[2,3,7], [0,1,3]])"
   ]
  },
  {
   "cell_type": "markdown",
   "metadata": {
    "colab_type": "text",
    "id": "uulxo5y-hcvo"
   },
   "source": [
    "**6. select the rows where the number of visits is less than 4**"
   ]
  },
  {
   "cell_type": "code",
   "execution_count": 134,
   "metadata": {
    "colab": {},
    "colab_type": "code",
    "id": "6Khj7LfZhcvq"
   },
   "outputs": [
    {
     "name": "stdout",
     "output_type": "stream",
     "text": [
      "Rows with visits less tan 4 are : \n",
      "    age       birds priority  visits\n",
      "a  3.5      Cranes      yes       2\n",
      "c  1.5     plovers       no       3\n",
      "e  6.0  spoonbills       no       3\n",
      "g  5.5     plovers       no       2\n",
      "h  NaN      Cranes      yes       2\n",
      "i  8.0  spoonbills       no       3\n",
      "j  4.0  spoonbills       no       2\n"
     ]
    }
   ],
   "source": [
    "visits_filter = (df['visits'] < 4)           # Creating filter data\n",
    "print(\"Rows with visits less tan 4 are : \\n\", df[visits_filter])                   # Printing filter data"
   ]
  },
  {
   "cell_type": "markdown",
   "metadata": {
    "colab_type": "text",
    "id": "sB8icEBVhcvy"
   },
   "source": [
    "**7. select the rows with columns ['birds', 'visits'] where the age is missing i.e NaN**"
   ]
  },
  {
   "cell_type": "code",
   "execution_count": 135,
   "metadata": {
    "colab": {},
    "colab_type": "code",
    "id": "dHoZ2z2ghcv2"
   },
   "outputs": [
    {
     "name": "stdout",
     "output_type": "stream",
     "text": [
      "   age       birds priority  visits\n",
      "d  NaN  spoonbills      yes       4\n",
      "h  NaN      Cranes      yes       2\n"
     ]
    }
   ],
   "source": [
    "age_missing = (df['age'].isnull())\n",
    "print(df[age_missing])"
   ]
  },
  {
   "cell_type": "markdown",
   "metadata": {
    "colab_type": "text",
    "id": "sgiIkh1Ghcv-"
   },
   "source": [
    "**8. Select the rows where the birds is a Cranes and the age is less than 4**"
   ]
  },
  {
   "cell_type": "code",
   "execution_count": 136,
   "metadata": {
    "colab": {},
    "colab_type": "code",
    "id": "4of7A8gehcwC"
   },
   "outputs": [
    {
     "name": "stdout",
     "output_type": "stream",
     "text": [
      "   age   birds priority  visits\n",
      "a  3.5  Cranes      yes       2\n",
      "h  NaN  Cranes      yes       2\n"
     ]
    }
   ],
   "source": [
    "filter_data = ((df['birds'] == \"Cranes\") & (visits_filter))\n",
    "print(df[filter_data])"
   ]
  },
  {
   "cell_type": "markdown",
   "metadata": {
    "colab_type": "text",
    "id": "IZrFrd1AhcwH"
   },
   "source": [
    "**9. Select the rows the age is between 2 and 4(inclusive)**"
   ]
  },
  {
   "cell_type": "code",
   "execution_count": 137,
   "metadata": {
    "colab": {},
    "colab_type": "code",
    "id": "Ij6co9oJhcwT"
   },
   "outputs": [
    {
     "name": "stdout",
     "output_type": "stream",
     "text": [
      "   age       birds priority  visits\n",
      "a  3.5      Cranes      yes       2\n",
      "b  4.0      Cranes      yes       4\n",
      "f  3.0      Cranes       no       4\n",
      "j  4.0  spoonbills       no       2\n"
     ]
    }
   ],
   "source": [
    "filter_age = df['age'].between(2, 4, inclusive=True)\n",
    "print(df[filter_age])"
   ]
  },
  {
   "cell_type": "markdown",
   "metadata": {
    "colab_type": "text",
    "id": "KvV1eyyehcwX"
   },
   "source": [
    "**10. Find the total number of visits of the bird Cranes**"
   ]
  },
  {
   "cell_type": "code",
   "execution_count": 138,
   "metadata": {
    "colab": {},
    "colab_type": "code",
    "id": "y5NyL569hcwY"
   },
   "outputs": [
    {
     "name": "stdout",
     "output_type": "stream",
     "text": [
      "Total number of visits of the bird Cranes are:  12\n"
     ]
    }
   ],
   "source": [
    "grp_by_birds = df.groupby('birds')                  # Creating Birds group\n",
    "cranes_grp = grp_by_birds.get_group(\"Cranes\")       # Getting specific Bird group\n",
    "visits_sum = cranes_grp['visits'].sum()             # Calculating Sum\n",
    "\n",
    "print(\"Total number of visits of the bird Cranes are: \", visits_sum)\n"
   ]
  },
  {
   "cell_type": "markdown",
   "metadata": {
    "colab_type": "text",
    "id": "S-1B7oDehcwf"
   },
   "source": [
    "**11. Calculate the mean age for each different birds in dataframe.**"
   ]
  },
  {
   "cell_type": "code",
   "execution_count": 139,
   "metadata": {
    "colab": {},
    "colab_type": "code",
    "id": "ljKjf7nyhcwg"
   },
   "outputs": [
    {
     "name": "stdout",
     "output_type": "stream",
     "text": [
      "The mean age for each different birds in dataframe are : \n",
      "\n",
      "             age\n",
      "birds          \n",
      "Cranes      3.5\n",
      "plovers     3.5\n",
      "spoonbills  6.0\n"
     ]
    }
   ],
   "source": [
    "birds_mean = grp_by_birds.mean()\n",
    "birds_age_mean = birds_mean.loc[:,['age']]           # selecting all rows for column age.\n",
    "\n",
    "print(\"The mean age for each different birds in dataframe are : \\n\\n\", birds_age_mean)"
   ]
  },
  {
   "cell_type": "markdown",
   "metadata": {
    "colab_type": "text",
    "id": "B5HIznnMhcwl"
   },
   "source": [
    "**12. Append a new row 'k' to dataframe with your choice of values for each column. Then delete that row to return the original DataFrame.**"
   ]
  },
  {
   "cell_type": "code",
   "execution_count": 140,
   "metadata": {
    "colab": {},
    "colab_type": "code",
    "id": "GDDd9mXEhcwm"
   },
   "outputs": [
    {
     "name": "stdout",
     "output_type": "stream",
     "text": [
      "Original DataFrame: \n",
      "    age       birds priority  visits\n",
      "a  3.5      Cranes      yes       2\n",
      "b  4.0      Cranes      yes       4\n",
      "c  1.5     plovers       no       3\n",
      "d  NaN  spoonbills      yes       4\n",
      "e  6.0  spoonbills       no       3\n",
      "f  3.0      Cranes       no       4\n",
      "g  5.5     plovers       no       2\n",
      "h  NaN      Cranes      yes       2\n",
      "i  8.0  spoonbills       no       3\n",
      "j  4.0  spoonbills       no       2\n",
      "\n",
      " DataFrame after appending row 'k': \n",
      "    age       birds priority  visits\n",
      "a  3.5      Cranes      yes       2\n",
      "b  4.0      Cranes      yes       4\n",
      "c  1.5     plovers       no       3\n",
      "d  NaN  spoonbills      yes       4\n",
      "e  6.0  spoonbills       no       3\n",
      "f  3.0      Cranes       no       4\n",
      "g  5.5     plovers       no       2\n",
      "h  NaN      Cranes      yes       2\n",
      "i  8.0  spoonbills       no       3\n",
      "j  4.0  spoonbills       no       2\n",
      "k  7.0      Parrot      yes       2\n",
      "\n",
      " DataFrame after deleting row 'k' \n",
      "    age       birds priority  visits\n",
      "a  3.5      Cranes      yes       2\n",
      "b  4.0      Cranes      yes       4\n",
      "c  1.5     plovers       no       3\n",
      "d  NaN  spoonbills      yes       4\n",
      "e  6.0  spoonbills       no       3\n",
      "f  3.0      Cranes       no       4\n",
      "g  5.5     plovers       no       2\n",
      "h  NaN      Cranes      yes       2\n",
      "i  8.0  spoonbills       no       3\n",
      "j  4.0  spoonbills       no       2\n"
     ]
    }
   ],
   "source": [
    "print(\"Original DataFrame: \\n\", df)\n",
    "\n",
    "new_row_data = {'birds': ['Parrot'], 'age' : [7], 'visits': [2], 'priority': ['yes']}\n",
    "new_row = pd.DataFrame(new_row_data, ['k'])\n",
    "df = df.append(new_row)\n",
    "print(\"\\n DataFrame after appending row 'k': \\n\", df)\n",
    "\n",
    "df = df.drop('k')\n",
    "print(\"\\n DataFrame after deleting row 'k' \\n\", df)"
   ]
  },
  {
   "cell_type": "markdown",
   "metadata": {
    "colab_type": "text",
    "id": "_cLx6xLahcwq"
   },
   "source": [
    "**13. Find the number of each type of birds in dataframe (Counts)**"
   ]
  },
  {
   "cell_type": "code",
   "execution_count": 141,
   "metadata": {
    "colab": {},
    "colab_type": "code",
    "id": "aTHV8JJMhcws"
   },
   "outputs": [
    {
     "name": "stdout",
     "output_type": "stream",
     "text": [
      "Number of each type of birds in dataframe are: \n",
      " birds\n",
      "Cranes        4\n",
      "plovers       2\n",
      "spoonbills    4\n",
      "Name: birds, dtype: int64\n"
     ]
    }
   ],
   "source": [
    "print(\"Number of each type of birds in dataframe are: \\n\", grp_by_birds['birds'].count())\n"
   ]
  },
  {
   "cell_type": "markdown",
   "metadata": {
    "colab_type": "text",
    "id": "-SJ6OYuYhcww"
   },
   "source": [
    "**14. Sort dataframe (birds) first by the values in the 'age' in decending order, then by the value in the 'visits' column in ascending order.**"
   ]
  },
  {
   "cell_type": "code",
   "execution_count": 142,
   "metadata": {
    "colab": {},
    "colab_type": "code",
    "id": "1oeqEqBjhcwy"
   },
   "outputs": [
    {
     "name": "stdout",
     "output_type": "stream",
     "text": [
      "Sorting data by age in Descneding Order: \n",
      "\n",
      "    age       birds priority  visits\n",
      "i  8.0  spoonbills       no       3\n",
      "e  6.0  spoonbills       no       3\n",
      "g  5.5     plovers       no       2\n",
      "b  4.0      Cranes      yes       4\n",
      "j  4.0  spoonbills       no       2\n",
      "a  3.5      Cranes      yes       2\n",
      "f  3.0      Cranes       no       4\n",
      "c  1.5     plovers       no       3\n",
      "d  NaN  spoonbills      yes       4\n",
      "h  NaN      Cranes      yes       2\n",
      "\n",
      "Sorting data by visits in Ascending Order: \n",
      "\n",
      "    age       birds priority  visits\n",
      "g  5.5     plovers       no       2\n",
      "j  4.0  spoonbills       no       2\n",
      "a  3.5      Cranes      yes       2\n",
      "h  NaN      Cranes      yes       2\n",
      "i  8.0  spoonbills       no       3\n",
      "e  6.0  spoonbills       no       3\n",
      "c  1.5     plovers       no       3\n",
      "b  4.0      Cranes      yes       4\n",
      "f  3.0      Cranes       no       4\n",
      "d  NaN  spoonbills      yes       4\n"
     ]
    }
   ],
   "source": [
    "df_sort_by_des_age = df.sort_values(by='age', ascending=False)\n",
    "print(\"Sorting data by age in Descneding Order: \\n\\n\", df_sort_by_des_age)\n",
    "print(\"\\nSorting data by visits in Ascending Order: \\n\\n\", df_sort_by_des_age.sort_values(by='visits'))"
   ]
  },
  {
   "cell_type": "markdown",
   "metadata": {
    "colab_type": "text",
    "id": "JaKj7ZQUhcw7"
   },
   "source": [
    "**15. Replace the priority column values with'yes' should be 1 and 'no' should be 0**"
   ]
  },
  {
   "cell_type": "code",
   "execution_count": 143,
   "metadata": {
    "colab": {},
    "colab_type": "code",
    "id": "AJAPYiIHhcw9"
   },
   "outputs": [
    {
     "name": "stdout",
     "output_type": "stream",
     "text": [
      "Replaced Dataframe: \n",
      "    age       birds  priority  visits\n",
      "a  3.5      Cranes         1       2\n",
      "b  4.0      Cranes         1       4\n",
      "c  1.5     plovers         0       3\n",
      "d  NaN  spoonbills         1       4\n",
      "e  6.0  spoonbills         0       3\n",
      "f  3.0      Cranes         0       4\n",
      "g  5.5     plovers         0       2\n",
      "h  NaN      Cranes         1       2\n",
      "i  8.0  spoonbills         0       3\n",
      "j  4.0  spoonbills         0       2\n"
     ]
    }
   ],
   "source": [
    "df = df.replace(['yes'], 1)\n",
    "df = df.replace(['no'], 0)\n",
    "print(\"Replaced Dataframe: \\n\", df)"
   ]
  },
  {
   "cell_type": "markdown",
   "metadata": {
    "colab_type": "text",
    "id": "E2EFmujbhcxA"
   },
   "source": [
    "**16. In the 'birds' column, change the 'Cranes' entries to 'trumpeters'.**"
   ]
  },
  {
   "cell_type": "code",
   "execution_count": 144,
   "metadata": {
    "colab": {},
    "colab_type": "code",
    "id": "Bi29Cc6lhcxC"
   },
   "outputs": [
    {
     "name": "stdout",
     "output_type": "stream",
     "text": [
      "Replaced DataFrame :\n",
      "    age       birds  priority  visits\n",
      "a  3.5  trumpeters         1       2\n",
      "b  4.0  trumpeters         1       4\n",
      "c  1.5     plovers         0       3\n",
      "d  NaN  spoonbills         1       4\n",
      "e  6.0  spoonbills         0       3\n",
      "f  3.0  trumpeters         0       4\n",
      "g  5.5     plovers         0       2\n",
      "h  NaN  trumpeters         1       2\n",
      "i  8.0  spoonbills         0       3\n",
      "j  4.0  spoonbills         0       2\n"
     ]
    }
   ],
   "source": [
    "df = df.replace(['Cranes'], 'trumpeters')\n",
    "print(\"Replaced DataFrame :\\n\", df)"
   ]
  },
  {
   "cell_type": "code",
   "execution_count": null,
   "metadata": {
    "collapsed": true
   },
   "outputs": [],
   "source": []
  }
 ],
 "metadata": {
  "colab": {
   "name": "pandas_basics_practice.ipynb",
   "provenance": [],
   "version": "0.3.2"
  },
  "kernelspec": {
   "display_name": "Python 3",
   "language": "python",
   "name": "python3"
  },
  "language_info": {
   "codemirror_mode": {
    "name": "ipython",
    "version": 3
   },
   "file_extension": ".py",
   "mimetype": "text/x-python",
   "name": "python",
   "nbconvert_exporter": "python",
   "pygments_lexer": "ipython3",
   "version": "3.6.2"
  }
 },
 "nbformat": 4,
 "nbformat_minor": 1
}
